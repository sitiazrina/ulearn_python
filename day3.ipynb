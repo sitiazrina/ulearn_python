{
 "cells": [
  {
   "cell_type": "markdown",
   "metadata": {},
   "source": [
    "Solutions\n",
    "===\n"
   ]
  },
  {
   "cell_type": "markdown",
   "metadata": {},
   "source": [
    "Fibonacci"
   ]
  },
  {
   "cell_type": "code",
   "execution_count": 8,
   "metadata": {
    "collapsed": false
   },
   "outputs": [
    {
     "data": {
      "text/plain": [
       "12586269025"
      ]
     },
     "execution_count": 8,
     "metadata": {},
     "output_type": "execute_result"
    }
   ],
   "source": [
    "def f(n):\n",
    "    if n == 0:\n",
    "        return 0\n",
    "    if n == 1:\n",
    "        return 1  \n",
    "    return f(n-1) + f(n-2)\n",
    "\n",
    "def fib_cache(n, cache):\n",
    "    if n == 0:\n",
    "        return 0\n",
    "    if n == 1:\n",
    "        return 1\n",
    "    \n",
    "    if (n-1) not in cache:\n",
    "        cache[n-1] = fib_cache(n-1, cache)\n",
    "    \n",
    "    if (n-2) not in cache:\n",
    "        cache[n-2] = fib_cache(n-2, cache)\n",
    "        \n",
    "    return cache[n-1] + cache[n-2]\n",
    "        \n",
    "    \n",
    "#f(40)\n",
    "\n",
    "fib_cache(50, {})"
   ]
  },
  {
   "cell_type": "code",
   "execution_count": 5,
   "metadata": {
    "collapsed": false
   },
   "outputs": [
    {
     "name": "stdout",
     "output_type": "stream",
     "text": [
      "[1, 1, 2, 3, 5, 8, 13, 21, 34, 55, 89, 144, 233, 377, 610, 987, 1597, 2584, 4181, 6765, 10946, 17711, 28657, 46368, 75025, 121393, 196418, 317811, 514229, 832040, 1346269, 2178309, 3524578, 5702887, 9227465, 14930352, 24157817, 39088169, 63245986, 102334155, 165580141, 267914296, 433494437, 701408733, 1134903170, 1836311903, 2971215073, 4807526976, 7778742049, 12586269025, 20365011074, 32951280099, 53316291173, 86267571272, 139583862445, 225851433717, 365435296162, 591286729879, 956722026041, 1548008755920, 2504730781961, 4052739537881, 6557470319842, 10610209857723, 17167680177565, 27777890035288, 44945570212853, 72723460248141, 117669030460994, 190392490709135, 308061521170129, 498454011879264, 806515533049393, 1304969544928657, 2111485077978050, 3416454622906707, 5527939700884757, 8944394323791464, 14472334024676221, 23416728348467685, 37889062373143906, 61305790721611591, 99194853094755497, 160500643816367088, 259695496911122585, 420196140727489673, 679891637638612258, 1100087778366101931, 1779979416004714189, 2880067194370816120, 4660046610375530309, 7540113804746346429, 12200160415121876738L, 19740274219868223167L, 31940434634990099905L, 51680708854858323072L, 83621143489848422977L, 135301852344706746049L, 218922995834555169026L, 354224848179261915075L, 573147844013817084101L, 927372692193078999176L]\n"
     ]
    }
   ],
   "source": [
    "def fib(n):\n",
    "    a,b = 1,1\n",
    "    for i in range(n):\n",
    "        a,b=b,a+b\n",
    "        print a,b\n",
    "    return a\n",
    "\n",
    "fib(1000)\n",
    "\n",
    "\n",
    "def fibonacci( e, f):\n",
    "    li = []\n",
    "    li.append(e)\n",
    "    li.append(f)\n",
    "    for i in range(100):\n",
    "        f1 = e + f\n",
    "        li.append(f1)\n",
    "        e = f\n",
    "        f = f1\n",
    "    \n",
    "    return li\n",
    "\n",
    "print fibonacci(1, 1)"
   ]
  },
  {
   "cell_type": "markdown",
   "metadata": {
    "collapsed": true
   },
   "source": [
    "Rotating a 3x3 array\n"
   ]
  },
  {
   "cell_type": "code",
   "execution_count": 25,
   "metadata": {
    "collapsed": false
   },
   "outputs": [
    {
     "name": "stdout",
     "output_type": "stream",
     "text": [
      "[[1, 2, 3], [4, 5, 6], [7, 8, 9]]\n",
      "[[7, 4, 1], [8, 5, 2], [9, 6, 3]]\n"
     ]
    }
   ],
   "source": [
    "array = [[1,2,3],[4,5,6],[7,8,9]]\n",
    "\n",
    "# >>> [[0] * 3 for i in range(3)]\n",
    "# [[0, 0, 0], [0, 0, 0], [0, 0, 0]]\n",
    "\n",
    "def rotateArray(matrix):\n",
    "    narray = [[],[],[]]\n",
    "    #narray = [[] for i in range(3)]\n",
    "    \n",
    "    for row in matrix:\n",
    "        for ind in range (0,3) :\n",
    "            narray[ind].append(row[ind])\n",
    "    \n",
    "    for row in narray:\n",
    "        row.reverse()\n",
    "        \n",
    "    return narray\n",
    "\n",
    "print array \n",
    "print rotateArray(array)\n",
    "\n",
    "# 1 2 3\n",
    "# 4 5 6\n",
    "# 7 8 9\n",
    "\n",
    "# 1 2 3\n",
    "# narray[0] = [1]\n",
    "# narray[1] = [2]\n",
    "# narray[2] = [3]\n",
    "\n",
    "# 4 5 6\n",
    "# narray[0] = [1, 4]\n",
    "# narray[1] = [2, 5]\n",
    "# narray[2] = [3, 6]\n",
    "\n",
    "# 7 8 9\n",
    "# narray[0] = [1, 4, 7]\n",
    "# narray[1] = [2, 5, 8]\n",
    "# narray[2] = [3, 6, 9]\n",
    "\n",
    "# now we reverse each row of narray\n",
    "# narray[0] = [7, 4, 1]\n",
    "# narray[1] = [8, 5, 2]\n",
    "# narray[2] = [9, 6, 3]\n",
    "\n",
    "####################################################\n",
    "\n",
    "li = [ [1,2,3],\n",
    "      [4,5,6],\n",
    "      [7,8,9]]\n",
    "\n",
    "\n",
    "def displayList(li1):\n",
    "    for el in li1:\n",
    "        print el\n",
    "    \n",
    "# now change the sequence\n",
    "def rotateList(li1):\n",
    "    li2 = []\n",
    "    li3 = []\n",
    "    li4 =[]\n",
    "    \n",
    "    n = len(li1) - 1\n",
    "#    print n\n",
    "    \n",
    "    while n >= 0:\n",
    "        f = li1[n]\n",
    "#        print f\n",
    "        \n",
    "        li2.append(f[0])\n",
    "        li3.append(f[1])\n",
    "        li4.append(f[2])\n",
    "        n -= 1\n",
    "    \n",
    "    li5 = [li2, li3 , li4]\n",
    "        \n",
    "    displayList(li5)\n",
    "\n",
    "displayList(li)\n",
    "rotateList(li)\n",
    " "
   ]
  },
  {
   "cell_type": "markdown",
   "metadata": {},
   "source": [
    "FizzBuzz"
   ]
  },
  {
   "cell_type": "code",
   "execution_count": 29,
   "metadata": {
    "collapsed": false
   },
   "outputs": [
    {
     "name": "stdout",
     "output_type": "stream",
     "text": [
      "Fizz\n",
      "Buzz\n",
      "Fizz\n",
      "Fizz\n",
      "Buzz\n",
      "Fizz\n",
      "(15, 'FizzBuzz')\n",
      "Fizz\n",
      "Buzz\n",
      "Fizz\n",
      "Fizz\n",
      "Buzz\n",
      "Fizz\n",
      "(30, 'FizzBuzz')\n",
      "Fizz\n",
      "Buzz\n",
      "Fizz\n",
      "Fizz\n",
      "Buzz\n",
      "Fizz\n",
      "(45, 'FizzBuzz')\n",
      "Fizz\n",
      "Buzz\n",
      "Fizz\n",
      "Fizz\n",
      "Buzz\n",
      "Fizz\n",
      "(60, 'FizzBuzz')\n",
      "Fizz\n",
      "Buzz\n",
      "Fizz\n",
      "Fizz\n",
      "Buzz\n",
      "Fizz\n",
      "(75, 'FizzBuzz')\n",
      "Fizz\n",
      "Buzz\n",
      "Fizz\n",
      "Fizz\n",
      "Buzz\n",
      "Fizz\n",
      "(90, 'FizzBuzz')\n",
      "Fizz\n",
      "Buzz\n",
      "Fizz\n",
      "Fizz\n",
      "Buzz\n"
     ]
    }
   ],
   "source": [
    "# getting right going over 1 to 100\n",
    "# the double condition of multiple of 3 AND multiple of 5\n",
    "\n",
    "oneToHundred = range(1, 101)\n",
    "\n",
    "for n in oneToHundred:\n",
    "    \n",
    "    if n % 3 == 0 and n % 5 == 0:\n",
    "        print(n, 'FizzBuzz')\n",
    "    elif n % 5 == 0:\n",
    "        print('Buzz')\n",
    "    elif n % 3 == 0:\n",
    "        print('Fizz')\n",
    "        \n",
    "    "
   ]
  },
  {
   "cell_type": "markdown",
   "metadata": {},
   "source": [
    "Reverse a string"
   ]
  },
  {
   "cell_type": "code",
   "execution_count": 33,
   "metadata": {
    "collapsed": false
   },
   "outputs": [
    {
     "name": "stdout",
     "output_type": "stream",
     "text": [
      "['h', 'e', 'l', 'l', 'o', ' ', 'w', 'o', 'r', 'l', 'd']\n",
      "['d', 'l', 'r', 'o', 'w', ' ', 'w', 'o', 'r', 'l', 'd']\n"
     ]
    }
   ],
   "source": [
    "s = \"hello world\"\n",
    "li = list(s)\n",
    "print li\n",
    "\n",
    "for i in range(len(li)/2):\n",
    "    temp = li[i]\n",
    "    #li[i] = li[len(li) - 1 - i]\n",
    "    #li[len(li) - 1 - i] = temp\n",
    "    \n",
    "    li[i] = li[-(i+1)]\n",
    "    li[-(i+1)] = li[i]\n",
    "\n",
    "print li\n"
   ]
  },
  {
   "cell_type": "markdown",
   "metadata": {},
   "source": [
    "Modules and imports\n",
    "===\n",
    "\n",
    "- Modules are just Python files\n",
    "- If the file is inside a directory, then we have to use the dot notation to reach it: import app.db.connection\n",
    "- Importing a module creates a name in the current environment"
   ]
  },
  {
   "cell_type": "code",
   "execution_count": 47,
   "metadata": {
    "collapsed": false
   },
   "outputs": [
    {
     "name": "stdout",
     "output_type": "stream",
     "text": [
      "<built-in function sin>\n",
      "<module 'os' from '/usr/lib/python2.7/os.pyc'>\n",
      "<module 'posixpath' from '/usr/lib/python2.7/posixpath.pyc'>\n",
      "<module 'posixpath' from '/usr/lib/python2.7/posixpath.pyc'>\n"
     ]
    }
   ],
   "source": [
    "import math\n",
    "import math as m\n",
    "\n",
    "# this style will only work if sin is itself a module\n",
    "# because it is not, this does not work\n",
    "#import math.sin # you can then use math.sin(5)\n",
    "\n",
    "# but the below style is more common\n",
    "from math import sin # sin(5)\n",
    "print(sin)\n",
    "\n",
    "# let's import a module from a directory\n",
    "import os\n",
    "print os\n",
    "import os.path # creates the name os.path\n",
    "print(os.path)\n",
    "from os import path # creates the name path\n",
    "print(path)"
   ]
  },
  {
   "cell_type": "code",
   "execution_count": 48,
   "metadata": {
    "collapsed": true
   },
   "outputs": [],
   "source": [
    "d = {}"
   ]
  },
  {
   "cell_type": "code",
   "execution_count": 53,
   "metadata": {
    "collapsed": false
   },
   "outputs": [
    {
     "name": "stdout",
     "output_type": "stream",
     "text": [
      "key does not exist\n"
     ]
    },
    {
     "ename": "Exception",
     "evalue": "this is my error",
     "output_type": "error",
     "traceback": [
      "\u001b[1;31m---------------------------------------------------------------------------\u001b[0m",
      "\u001b[1;31mException\u001b[0m                                 Traceback (most recent call last)",
      "\u001b[1;32m<ipython-input-53-fa711dc4a66d>\u001b[0m in \u001b[0;36m<module>\u001b[1;34m()\u001b[0m\n\u001b[0;32m     14\u001b[0m     \u001b[1;32mpass\u001b[0m\u001b[1;33m\u001b[0m\u001b[0m\n\u001b[0;32m     15\u001b[0m \u001b[1;33m\u001b[0m\u001b[0m\n\u001b[1;32m---> 16\u001b[1;33m \u001b[1;32mraise\u001b[0m \u001b[0mException\u001b[0m\u001b[1;33m(\u001b[0m\u001b[1;34m'this is my error'\u001b[0m\u001b[1;33m)\u001b[0m\u001b[1;33m\u001b[0m\u001b[0m\n\u001b[0m",
      "\u001b[1;31mException\u001b[0m: this is my error"
     ]
    }
   ],
   "source": [
    "d = {}\n",
    "\n",
    "try:\n",
    "    # opening a file\n",
    "    print d['something']\n",
    "    \n",
    "except IOError:\n",
    "    print 'something went wrong when opening the file'\n",
    "\n",
    "except KeyError:\n",
    "    print 'key does not exist'\n",
    "    \n",
    "except:\n",
    "    pass\n",
    "\n",
    "#raise Exception('this is my error')\n"
   ]
  },
  {
   "cell_type": "code",
   "execution_count": 54,
   "metadata": {
    "collapsed": false
   },
   "outputs": [
    {
     "data": {
      "text/plain": [
       "['name,age', 'student1,10', 'student2', 'student3,15']"
      ]
     },
     "execution_count": 54,
     "metadata": {},
     "output_type": "execute_result"
    }
   ],
   "source": [
    "s = \"\"\"studentname,studentage\n",
    "student1,10\n",
    "student2\n",
    "student3,15\n",
    "\"\"\"\n",
    "\n",
    "# parse the data\n",
    "# handle missing data in record 2\n",
    "# convert the age string into an integer\n",
    "\n",
    "\n",
    "# {'name': 'student1', 'age': 10}"
   ]
  },
  {
   "cell_type": "code",
   "execution_count": 55,
   "metadata": {
    "collapsed": false
   },
   "outputs": [
    {
     "data": {
      "text/plain": [
       "1"
      ]
     },
     "execution_count": 55,
     "metadata": {},
     "output_type": "execute_result"
    }
   ],
   "source": [
    "1"
   ]
  },
  {
   "cell_type": "code",
   "execution_count": 58,
   "metadata": {
    "collapsed": false
   },
   "outputs": [
    {
     "name": "stdout",
     "output_type": "stream",
     "text": [
      "[0, 1, 2]\n"
     ]
    }
   ],
   "source": [
    "print([x for x in range(3)])"
   ]
  },
  {
   "cell_type": "code",
   "execution_count": null,
   "metadata": {
    "collapsed": true
   },
   "outputs": [],
   "source": []
  }
 ],
 "metadata": {
  "kernelspec": {
   "display_name": "Python 2",
   "language": "python",
   "name": "python2"
  },
  "language_info": {
   "codemirror_mode": {
    "name": "ipython",
    "version": 2
   },
   "file_extension": ".py",
   "mimetype": "text/x-python",
   "name": "python",
   "nbconvert_exporter": "python",
   "pygments_lexer": "ipython2",
   "version": "2.7.6"
  }
 },
 "nbformat": 4,
 "nbformat_minor": 0
}
