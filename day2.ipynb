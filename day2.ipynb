{
 "cells": [
  {
   "cell_type": "markdown",
   "metadata": {},
   "source": [
    "Palindromes: First Attempt\n",
    "==="
   ]
  },
  {
   "cell_type": "code",
   "execution_count": null,
   "metadata": {
    "collapsed": true
   },
   "outputs": [],
   "source": [
    "def is_palindrome(s):\n",
    "    return s == s[::-1]\n",
    "\n",
    "def substrings(s, n):\n",
    "    li = []\n",
    "    for i in range(len(s) - n + 1):\n",
    "        li.append(s[i:i+n])\n",
    "    return li\n",
    "\n",
    "def longest_palindrome(s):\n",
    "    max_so_far = ''\n",
    "    for n in range(len(s) + 1):\n",
    "        for el in substrings(s, n):\n",
    "            if is_palindrome(el) and len(el) > len(max_so_far):\n",
    "                max_so_far = el\n",
    "    return max_so_far, len(max_so_far)\n",
    "\n",
    "print longest_palindrome('abba abcddc')"
   ]
  },
  {
   "cell_type": "markdown",
   "metadata": {},
   "source": [
    "Palindromes: Second Attempt\n",
    "==="
   ]
  },
  {
   "cell_type": "code",
   "execution_count": 3,
   "metadata": {
    "collapsed": false
   },
   "outputs": [
    {
     "data": {
      "text/plain": [
       "('ba ab', 5)"
      ]
     },
     "execution_count": 3,
     "metadata": {},
     "output_type": "execute_result"
    }
   ],
   "source": [
    "def is_palindrome(s):\n",
    "    return s == s[::-1]\n",
    "\n",
    "def substrings(s, n):\n",
    "    li = []\n",
    "    for i in range(len(s) - n + 1):\n",
    "        li.append(s[i:i+n])\n",
    "    return li\n",
    "\n",
    "def allsubstrings(s):\n",
    "    temp = []\n",
    "    for n in range(len(s) + 1):\n",
    "        temp.extend(substrings(s, n))\n",
    "    return temp\n",
    "\n",
    "    \n",
    "def palindromes(li):\n",
    "    temp = []\n",
    "    for el in li:\n",
    "        if is_palindrome(el):\n",
    "            temp.append((el, len(el)))\n",
    "    return temp\n",
    "\n",
    "\n",
    "def lp2(s):\n",
    "    only_palindromes = palindromes(allsubstrings(s))\n",
    "    return max(only_palindromes, key=lambda a: a[1])\n",
    "\n",
    "lp2('abba abcddc')"
   ]
  },
  {
   "cell_type": "markdown",
   "metadata": {},
   "source": [
    "List Comprehensions\n",
    "==="
   ]
  },
  {
   "cell_type": "code",
   "execution_count": 6,
   "metadata": {
    "collapsed": false
   },
   "outputs": [
    {
     "name": "stdout",
     "output_type": "stream",
     "text": [
      "[2, 4, 6, 8, 10]\n",
      "[3, 6, 9, 12, 15]\n"
     ]
    }
   ],
   "source": [
    "li = [1, 2, 3, 4, 5]\n",
    "\n",
    "# first attemp\n",
    "\n",
    "temp = []\n",
    "for el in li:\n",
    "    temp.append(el * 2)\n",
    "print temp\n",
    "\n",
    "# using list comprehensions\n",
    "newlist = [el * 3 for el in li]\n",
    "print newlist"
   ]
  },
  {
   "cell_type": "code",
   "execution_count": 8,
   "metadata": {
    "collapsed": false
   },
   "outputs": [
    {
     "name": "stdout",
     "output_type": "stream",
     "text": [
      "['DELL', 'IBM', 'HP']\n"
     ]
    }
   ],
   "source": [
    "names = ['dell', 'ibm', 'hp']\n",
    "print [name.upper() for name in names]"
   ]
  },
  {
   "cell_type": "code",
   "execution_count": 11,
   "metadata": {
    "collapsed": false
   },
   "outputs": [
    {
     "name": "stdout",
     "output_type": "stream",
     "text": [
      "[0, 3, 5, 6, 9, 10, 12, 15, 18, 20, 21, 24, 25, 27, 30, 33, 35, 36, 39, 40, 42, 45, 48, 50, 51, 54, 55, 57, 60, 63, 65, 66, 69, 70, 72, 75, 78, 80, 81, 84, 85, 87, 90, 93, 95, 96, 99]\n"
     ]
    }
   ],
   "source": [
    "numbers = range(100)\n",
    "# we want only numbers which are divisible by 3 or 5\n",
    "print [n for n in numbers if n % 3 == 0 or n % 5 == 0]"
   ]
  },
  {
   "cell_type": "code",
   "execution_count": 15,
   "metadata": {
    "collapsed": false
   },
   "outputs": [
    {
     "name": "stdout",
     "output_type": "stream",
     "text": [
      "[(0, 1), (0, 2), (1, 0), (1, 2), (2, 0), (2, 1)]\n"
     ]
    }
   ],
   "source": [
    "li1 = range(3)\n",
    "li2 = range(3)\n",
    "\n",
    "crossproduct = [(i, j) for i in li1 for j in li2 if i != j]\n",
    "print crossproduct"
   ]
  },
  {
   "cell_type": "markdown",
   "metadata": {},
   "source": [
    "Refactor Palindrome program\n",
    "===="
   ]
  },
  {
   "cell_type": "code",
   "execution_count": 26,
   "metadata": {
    "collapsed": false
   },
   "outputs": [
    {
     "data": {
      "text/plain": [
       "'ba ab'"
      ]
     },
     "execution_count": 26,
     "metadata": {},
     "output_type": "execute_result"
    }
   ],
   "source": [
    "def is_palindrome(s):\n",
    "    return s == s[::-1]\n",
    "\n",
    "def substrings(s, n):\n",
    "    return [s[i:i+n] for i in range(len(s) - n + 1)]\n",
    "\n",
    "\n",
    "def allsubstrings(s):\n",
    "    all = [substrings(s, n) for n in range(len(s) + 1)]\n",
    "    return reduce(lambda a, b: a + b, all, [])\n",
    "\n",
    "    \n",
    "def palindromes(words):\n",
    "    return [word for word in words if is_palindrome(word)]\n",
    "\n",
    "def lp1(s):\n",
    "    only_palindromes = palindromes(allsubstrings(s))\n",
    "    # [('word1', 5), ('abc', 3)]\n",
    "    return max(only_palindromes, key=lambda t: t[1])\n",
    "\n",
    "def lp2(s):\n",
    "    only_palindromes = palindromes(allsubstrings(s))\n",
    "    # ['word1', 'abc']\n",
    "    return max(only_palindromes, key=lambda word: len(word))\n",
    "\n",
    "lp2('abba abcddc')"
   ]
  },
  {
   "cell_type": "markdown",
   "metadata": {},
   "source": [
    "High order functions, Lambda\n",
    "===\n"
   ]
  },
  {
   "cell_type": "code",
   "execution_count": 22,
   "metadata": {
    "collapsed": false
   },
   "outputs": [],
   "source": [
    "def mytimeit(func):\n",
    "    import time\n",
    "    start = time.time()\n",
    "    func()   # call user function\n",
    "    end = time.time()\n",
    "    print end - start\n",
    "\n",
    "# decorator function\n",
    "\n",
    "def newtimeit(func):\n",
    "    \n",
    "    def _f():\n",
    "        import time\n",
    "        start = time.time()\n",
    "        func()\n",
    "        end = time.time()\n",
    "        print end - start\n",
    "    \n",
    "    return _f\n",
    "\n",
    "@newtimeit\n",
    "def f():\n",
    "    import time\n",
    "    time.sleep(2)\n",
    "\n",
    "f()\n",
    "\n",
    "@newtimeit\n",
    "def g():\n",
    "    import time\n",
    "    time.sleep(1)\n",
    "\n",
    "\n",
    "    \n",
    "def loggedin(func):\n",
    "    \n",
    "    def _f():\n",
    "        if user.logged_in:\n",
    "            func()\n",
    "        else:\n",
    "            print 'user not logged in'\n",
    "\n",
    "    return _f\n",
    "\n",
    "\n",
    "@timeit\n",
    "@admin\n",
    "@loggedin\n",
    "def editpage():\n",
    "    pass\n",
    "\n",
    "@staff\n",
    "@loggedin\n",
    "def deletepage():\n",
    "    pass\n",
    "\n",
    "\n"
   ]
  },
  {
   "cell_type": "code",
   "execution_count": 35,
   "metadata": {
    "collapsed": false
   },
   "outputs": [
    {
     "data": {
      "text/plain": [
       "('d', 7, 5)"
      ]
     },
     "execution_count": 35,
     "metadata": {},
     "output_type": "execute_result"
    }
   ],
   "source": [
    "def mymax(li, key):\n",
    "    \n",
    "    currmax = li[0]\n",
    "    for el in li:\n",
    "        if key(el) > key(currmax):\n",
    "            currmax = el\n",
    "    return currmax\n",
    "\n",
    "mymax([\"dog\", \"cat\", \"lion\", \"elephant\"], lambda x: len(x))\n",
    "mymax([('b', 15, 9), ('d', 7, 5), ('a', 12, 6)], lambda x: x[0])"
   ]
  },
  {
   "cell_type": "code",
   "execution_count": 39,
   "metadata": {
    "collapsed": false
   },
   "outputs": [
    {
     "data": {
      "text/plain": [
       "[('b', 15, 9), ('a', 12, 6), ('d', 7, 5)]"
      ]
     },
     "execution_count": 39,
     "metadata": {},
     "output_type": "execute_result"
    }
   ],
   "source": [
    "sorted([('b', 15, 9), ('d', 7, 5), ('a', 12, 6)], key=lambda t: t[1], reverse=True)"
   ]
  },
  {
   "cell_type": "markdown",
   "metadata": {},
   "source": [
    "Dictionaries\n",
    "===\n"
   ]
  },
  {
   "cell_type": "code",
   "execution_count": 45,
   "metadata": {
    "collapsed": false
   },
   "outputs": [
    {
     "name": "stdout",
     "output_type": "stream",
     "text": [
      "{'because': 2, 'use.': 1, 'copyrighted': 1, 'number': 1, 'states': 2, 'downloading': 1, 'are': 1, 'have': 2, 'in': 2, 'our': 2, 'non-commercial': 1, 'check': 1, 'ebooks': 1, 'law,': 1, 'ebooks.': 1, 'united': 2, 'copyright': 4, 'readers': 1, 'their': 2, 'outside': 1, 'other': 1, 'copyrights': 1, 'which': 1, 'before': 1, 'worldwide': 1, 'be': 2, 'we': 1, 'used': 1, 'redistributing': 1, 'permission': 1, 'may': 2, 'u.s.': 1, 'of': 4, 'unlimited': 1, 'given': 1, 'free': 1, 'most': 1, 'titles,': 1, 'they': 1, 'not': 2, 'holder': 1, 'by': 1, 'must': 1, 'a': 1, 'also': 1, 'has': 1, 'for': 2, 'countries': 1, 'freely': 1, 'countries.': 1, 'protected': 1, 'expired.': 1, 'usually': 1, 'the': 4, 'or': 1, 'laws': 1}\n"
     ]
    }
   ],
   "source": [
    "s = \"Our ebooks may be freely used in the United States because most are not protected by U.S. copyright law, usually because their copyrights have expired. They may not be free of copyright in other countries. Readers outside of the United States must check the copyright laws of their countries before downloading or redistributing our ebooks. We also have a number of copyrighted titles, for which the copyright holder has given permission for unlimited non-commercial worldwide use.\"\n",
    "s = s.lower()\n",
    "\n",
    "def countitems(items):\n",
    "    d = {}\n",
    "    \n",
    "    for item in items:\n",
    "        if item not in d:\n",
    "            d[item] = 0\n",
    "        d[item] += 1\n",
    "        \n",
    "    return d\n",
    "\n",
    "def countitems(items):\n",
    "    import collections\n",
    "    d = collections.defaultdict(int)\n",
    "    \n",
    "    for item in items:\n",
    "        d[item] += 1\n",
    "\n",
    "#countitems(s)\n",
    "\n",
    "words = s.split()\n",
    "\n",
    "print countitems(words)"
   ]
  },
  {
   "cell_type": "code",
   "execution_count": 47,
   "metadata": {
    "collapsed": false
   },
   "outputs": [
    {
     "name": "stdout",
     "output_type": "stream",
     "text": [
      "4\n"
     ]
    }
   ],
   "source": [
    "import collections\n",
    "\n",
    "counts = collections.Counter(words)\n",
    "print counts['copyright']"
   ]
  },
  {
   "cell_type": "markdown",
   "metadata": {},
   "source": [
    "More Functions\n",
    "==="
   ]
  },
  {
   "cell_type": "code",
   "execution_count": 64,
   "metadata": {
    "collapsed": false
   },
   "outputs": [
    {
     "name": "stdout",
     "output_type": "stream",
     "text": [
      "1 2 3\n",
      "4 5 6\n",
      "1 2 3\n",
      "1 2 7\n",
      "1 5 10\n",
      "8 2 9\n"
     ]
    }
   ],
   "source": [
    "def f(a, b=5, c=7):\n",
    "    print a, b, c\n",
    "\n",
    "li = [4, 5, 6]\n",
    "d = {'a': 1, 'b': 2, 'c': 3}\n",
    "\n",
    "f(**d)\n",
    "f(*li)\n",
    "\n",
    "f(d['a'], d['b'], d['c'])\n",
    "f(**d)\n",
    "\n",
    "f(1, 2, 3)\n",
    "\n",
    "f(1, 2)\n",
    "\n",
    "f(1, c=10)\n",
    "\n",
    "f(c=9, a=8, b=2)"
   ]
  },
  {
   "cell_type": "code",
   "execution_count": 62,
   "metadata": {
    "collapsed": false
   },
   "outputs": [
    {
     "name": "stdout",
     "output_type": "stream",
     "text": [
      "{'a': 1, 'c': 5, 'b': 3}\n"
     ]
    }
   ],
   "source": [
    "#list arguments, keyword arguments\n",
    "\n",
    "def f(*args):\n",
    "    print args\n",
    "    \n",
    "#f(1, 2, 3, 4, 5)\n",
    "\n",
    "\n",
    "def f(**kwargs):\n",
    "    #print a\n",
    "    print kwargs\n",
    "\n",
    "f(a=1, b=3, c=5)\n",
    "\n"
   ]
  },
  {
   "cell_type": "code",
   "execution_count": null,
   "metadata": {
    "collapsed": true
   },
   "outputs": [],
   "source": []
  }
 ],
 "metadata": {
  "kernelspec": {
   "display_name": "Python 2",
   "language": "python",
   "name": "python2"
  },
  "language_info": {
   "codemirror_mode": {
    "name": "ipython",
    "version": 2
   },
   "file_extension": ".py",
   "mimetype": "text/x-python",
   "name": "python",
   "nbconvert_exporter": "python",
   "pygments_lexer": "ipython2",
   "version": "2.7.6"
  }
 },
 "nbformat": 4,
 "nbformat_minor": 0
}
